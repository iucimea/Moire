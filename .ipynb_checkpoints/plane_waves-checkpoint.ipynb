{
 "cells": [
  {
   "cell_type": "markdown",
   "id": "32815311",
   "metadata": {},
   "source": [
    "# Plane Waves"
   ]
  },
  {
   "cell_type": "code",
   "execution_count": 8,
   "id": "276b0a27",
   "metadata": {},
   "outputs": [],
   "source": [
    "from pylab import meshgrid, cm, imshow, contour, clabel, figure, title, show\n",
    "import numpy as np\n",
    "import matplotlib.cm as cm\n",
    "import matplotlib.pyplot as plt\n",
    "import matplotlib.cbook as cbook\n",
    "from matplotlib.path import Path\n",
    "from matplotlib.patches import PathPatch"
   ]
  },
  {
   "cell_type": "markdown",
   "id": "49d329ce",
   "metadata": {},
   "source": [
    "# Meshgrid"
   ]
  },
  {
   "cell_type": "code",
   "execution_count": 9,
   "id": "13c91d15",
   "metadata": {},
   "outputs": [],
   "source": [
    "x = np.linspace(-20, 20, 4000)\n",
    "y = np.linspace(-20, 20, 4000)\n",
    "X, Y = meshgrid(x, y)"
   ]
  },
  {
   "cell_type": "markdown",
   "id": "61fcb9ac",
   "metadata": {},
   "source": [
    "# 1st, 2nd and 3rd order functions"
   ]
  },
  {
   "cell_type": "code",
   "execution_count": 10,
   "id": "373c223f",
   "metadata": {},
   "outputs": [],
   "source": [
    "def first_order(k_x, k_y, modulus):\n",
    "    return np.cos(k_x*modulus)*np.cos(-0.5*k_x*modulus+np.sqrt(3)/2*k_y*modulus)*np.cos(-0.5*k_x*modulus-np.sqrt(3)/2*k_y*modulus)\n",
    "\n",
    "\n",
    "def second_order(k_x, k_y, modulus):\n",
    "    return (np.cos(k_x*modulus)*np.cos(-0.5*k_x*modulus+np.sqrt(3)/2*k_y*modulus)*np.cos(-0.5*k_x*modulus-np.sqrt(3)/2*k_y*modulus))**2\n",
    "\n",
    "\n",
    "def third_order(k_x, k_y, modulus):\n",
    "    return (np.cos(k_x*modulus)*np.cos(-0.5*k_x*modulus+np.sqrt(3)/2*k_y*modulus)*np.cos(-0.5*k_x*modulus-np.sqrt(3)/2*k_y*modulus))**3"
   ]
  },
  {
   "cell_type": "markdown",
   "id": "22415ff0",
   "metadata": {},
   "source": [
    "# 1st, 2nd and 3rd order functions with dislocation in the origin"
   ]
  },
  {
   "cell_type": "code",
   "execution_count": 10,
   "id": "83ce9ae2",
   "metadata": {},
   "outputs": [],
   "source": [
    "def first_order(k_x, k_y, modulus):\n",
    "    return np.cos(k_x*modulus)*np.cos(-0.5*k_x*modulus+np.sqrt(3)/2*k_y*modulus)*np.cos(-0.5*k_x*modulus-np.sqrt(3)/2*k_y*modulus)\n",
    "\n",
    "\n",
    "def second_order(k_x, k_y, modulus):\n",
    "    return (np.cos(k_x*modulus)*np.cos(-0.5*k_x*modulus+np.sqrt(3)/2*k_y*modulus)*np.cos(-0.5*k_x*modulus-np.sqrt(3)/2*k_y*modulus))**2\n",
    "\n",
    "\n",
    "def third_order(k_x, k_y, modulus):\n",
    "    return (np.cos(k_x*modulus)*np.cos(-0.5*k_x*modulus+np.sqrt(3)/2*k_y*modulus)*np.cos(-0.5*k_x*modulus-np.sqrt(3)/2*k_y*modulus))**3"
   ]
  },
  {
   "cell_type": "markdown",
   "id": "59fa8d7f",
   "metadata": {},
   "source": [
    "# Lattice parameters"
   ]
  },
  {
   "cell_type": "code",
   "execution_count": 11,
   "id": "7d401fad",
   "metadata": {},
   "outputs": [],
   "source": [
    "a_Cr = 0.604\n",
    "a_Au = 0.288"
   ]
  },
  {
   "cell_type": "markdown",
   "id": "97e6c104",
   "metadata": {},
   "source": [
    "# Real space Lattice"
   ]
  },
  {
   "cell_type": "code",
   "execution_count": 12,
   "id": "6cf80111",
   "metadata": {},
   "outputs": [],
   "source": [
    "Au_real = first_order(X, Y, 2*np.pi/a_Au)       ### IMPORTANT ###\n",
    "Cr_real = second_order(X, Y, 2*np.pi/a_Cr)      ### IMPORTANT ###\n",
    "moire_real = Au_real * Cr_real"
   ]
  },
  {
   "cell_type": "markdown",
   "id": "5c89f6d9",
   "metadata": {},
   "source": [
    "# Reciprocal space Lattice"
   ]
  },
  {
   "cell_type": "code",
   "execution_count": 13,
   "id": "32404f6a",
   "metadata": {},
   "outputs": [],
   "source": [
    "Cr_reciprocal = np.fft.fftshift(np.fft.fft2(Cr_real))\n",
    "Au_reciprocal = np.fft.fftshift(np.fft.fft2(Au_real))\n",
    "moire_reciprocal = np.fft.fftshift(np.fft.fft2(moire_real))"
   ]
  },
  {
   "cell_type": "markdown",
   "id": "7a837983",
   "metadata": {},
   "source": [
    "# Plot"
   ]
  },
  {
   "cell_type": "code",
   "execution_count": 15,
   "id": "5bcb7760",
   "metadata": {},
   "outputs": [],
   "source": [
    "%matplotlib qt\n",
    "\n",
    "fig = plt.figure(layout=\"constrained\")\n",
    "ax_dict = fig.subplot_mosaic(\n",
    "    [['Au', 'Au_reciprocal'],\n",
    "     ['Cr', 'Cr_reciprocal'],\n",
    "     ['moire_real', 'moire_reciprocal']]\n",
    ")\n",
    "\n",
    "ax_dict['Au'].imshow(Au_real, cmap=cm.jet)\n",
    "ax_dict['Au'].set_title('Au')\n",
    "ax_dict['Au'].axis('off')\n",
    "ax_dict['Au_reciprocal'].imshow(abs(Au_reciprocal), vmin=0, vmax=10000, cmap=cm.jet)\n",
    "ax_dict['Au_reciprocal'].axis('off')\n",
    "ax_dict['Cr'].imshow(Cr_real, cmap=plt.cm.hot)\n",
    "ax_dict['Cr'].set_title('Cr')\n",
    "ax_dict['Cr'].axis('off')\n",
    "ax_dict['Cr_reciprocal'].imshow(abs(Cr_reciprocal), vmin=0, vmax=10000, cmap=cm.jet)\n",
    "ax_dict['Cr_reciprocal'].axis('off')\n",
    "ax_dict['moire_real'].imshow(moire_real, cmap=cm.jet)\n",
    "ax_dict['moire_real'].set_title('Moire')\n",
    "ax_dict['moire_real'].axis('off')\n",
    "ax_dict['moire_reciprocal'].imshow(abs(moire_reciprocal), vmin=0, vmax=10000, cmap=cm.jet)\n",
    "ax_dict['moire_reciprocal'].axis('off')\n",
    "\n",
    "plt.show()"
   ]
  },
  {
   "cell_type": "code",
   "execution_count": null,
   "id": "752e9d0a",
   "metadata": {},
   "outputs": [],
   "source": []
  }
 ],
 "metadata": {
  "kernelspec": {
   "display_name": "Python 3 (ipykernel)",
   "language": "python",
   "name": "python3"
  },
  "language_info": {
   "codemirror_mode": {
    "name": "ipython",
    "version": 3
   },
   "file_extension": ".py",
   "mimetype": "text/x-python",
   "name": "python",
   "nbconvert_exporter": "python",
   "pygments_lexer": "ipython3",
   "version": "3.9.12"
  }
 },
 "nbformat": 4,
 "nbformat_minor": 5
}
