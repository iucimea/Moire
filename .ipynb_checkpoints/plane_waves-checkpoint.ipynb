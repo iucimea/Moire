{
 "cells": [
  {
   "cell_type": "markdown",
   "id": "32815311",
   "metadata": {},
   "source": [
    "# Plane Waves"
   ]
  },
  {
   "cell_type": "code",
   "execution_count": 8,
   "id": "276b0a27",
   "metadata": {},
   "outputs": [],
   "source": [
    "from pylab import meshgrid, cm, imshow, contour, clabel, figure, title, show\n",
    "import numpy as np\n",
    "import matplotlib.cm as cm\n",
    "import matplotlib.pyplot as plt\n",
    "import matplotlib.cbook as cbook\n",
    "from matplotlib.path import Path\n",
    "from matplotlib.patches import PathPatch"
   ]
  },
  {
   "cell_type": "markdown",
   "id": "49d329ce",
   "metadata": {},
   "source": [
    "# Meshgrid"
   ]
  },
  {
   "cell_type": "code",
   "execution_count": null,
   "id": "13c91d15",
   "metadata": {},
   "outputs": [],
   "source": [
    "x = np.linspace(-10, 10, 1000)\n",
    "y = np.linspace(-10, 10, 1000)\n",
    "X, Y = meshgrid(x, y)\n"
   ]
  },
  {
   "cell_type": "markdown",
   "id": "61fcb9ac",
   "metadata": {},
   "source": [
    "# 1st, 2nd and 3rd order functions"
   ]
  },
  {
   "cell_type": "code",
   "execution_count": 95,
   "id": "373c223f",
   "metadata": {},
   "outputs": [],
   "source": [
    "def first_order(k_x, k_y, modulus):\n",
    "    return np.cos(k_x*modulus)*np.cos(-0.5*k_x*modulus+np.sqrt(3)/2*k_y*modulus)*np.cos(-0.5*k_x*modulus-np.sqrt(3)/2*k_y*modulus)\n",
    "\n",
    "\n",
    "def second_order(k_x, k_y, modulus):\n",
    "    return (np.cos(k_x*modulus)*np.cos(-0.5*k_x*modulus+np.sqrt(3)/2*k_y*modulus)*np.cos(-0.5*k_x*modulus-np.sqrt(3)/2*k_y*modulus))**2\n",
    "\n",
    "\n",
    "def third_order(k_x, k_y, modulus):\n",
    "    return (np.cos(k_x*modulus)*np.cos(-0.5*k_x*modulus+np.sqrt(3)/2*k_y*modulus)*np.cos(-0.5*k_x*modulus-np.sqrt(3)/2*k_y*modulus))**3"
   ]
  },
  {
   "cell_type": "code",
   "execution_count": 99,
   "id": "bf3dd0e8",
   "metadata": {},
   "outputs": [
    {
     "ename": "ValueError",
     "evalue": "shapes (2,) and (1000,1000) not aligned: 2 (dim 0) != 1000 (dim 0)",
     "output_type": "error",
     "traceback": [
      "\u001b[1;31m---------------------------------------------------------------------------\u001b[0m",
      "\u001b[1;31mValueError\u001b[0m                                Traceback (most recent call last)",
      "Input \u001b[1;32mIn [99]\u001b[0m, in \u001b[0;36m<cell line: 5>\u001b[1;34m()\u001b[0m\n\u001b[0;32m      2\u001b[0m     \u001b[38;5;28;01mreturn\u001b[39;00m \u001b[38;5;241m1\u001b[39m\u001b[38;5;241m+\u001b[39mnp\u001b[38;5;241m.\u001b[39mcos(k\u001b[38;5;241m.\u001b[39mdot(x)\u001b[38;5;241m+\u001b[39mk\u001b[38;5;241m.\u001b[39mdot(y))\n\u001b[0;32m      4\u001b[0m kx \u001b[38;5;241m=\u001b[39m np\u001b[38;5;241m.\u001b[39marray([\u001b[38;5;241m1\u001b[39m, \u001b[38;5;241m0\u001b[39m])\u001b[38;5;241m*\u001b[39m\u001b[38;5;241m2\u001b[39m\u001b[38;5;241m*\u001b[39mnp\u001b[38;5;241m.\u001b[39mpi\u001b[38;5;241m/\u001b[39ma_Au\n\u001b[1;32m----> 5\u001b[0m planewave \u001b[38;5;241m=\u001b[39m \u001b[43mfirst_order\u001b[49m\u001b[43m(\u001b[49m\u001b[43mkx\u001b[49m\u001b[43m,\u001b[49m\u001b[43m \u001b[49m\u001b[43mX\u001b[49m\u001b[43m,\u001b[49m\u001b[43m \u001b[49m\u001b[43mY\u001b[49m\u001b[43m)\u001b[49m \n\u001b[0;32m      7\u001b[0m plt\u001b[38;5;241m.\u001b[39mimshow(Au_real, cmap\u001b[38;5;241m=\u001b[39mcm\u001b[38;5;241m.\u001b[39mjet)\n\u001b[0;32m      9\u001b[0m get_ipython()\u001b[38;5;241m.\u001b[39mrun_line_magic(\u001b[38;5;124m'\u001b[39m\u001b[38;5;124mmatplotlib\u001b[39m\u001b[38;5;124m'\u001b[39m, \u001b[38;5;124m'\u001b[39m\u001b[38;5;124mqt\u001b[39m\u001b[38;5;124m'\u001b[39m)\n",
      "Input \u001b[1;32mIn [99]\u001b[0m, in \u001b[0;36mfirst_order\u001b[1;34m(k, x, y)\u001b[0m\n\u001b[0;32m      1\u001b[0m \u001b[38;5;28;01mdef\u001b[39;00m \u001b[38;5;21mfirst_order\u001b[39m(k, x, y):\n\u001b[1;32m----> 2\u001b[0m     \u001b[38;5;28;01mreturn\u001b[39;00m \u001b[38;5;241m1\u001b[39m\u001b[38;5;241m+\u001b[39mnp\u001b[38;5;241m.\u001b[39mcos(\u001b[43mk\u001b[49m\u001b[38;5;241;43m.\u001b[39;49m\u001b[43mdot\u001b[49m\u001b[43m(\u001b[49m\u001b[43mx\u001b[49m\u001b[43m)\u001b[49m\u001b[38;5;241m+\u001b[39mk\u001b[38;5;241m.\u001b[39mdot(y))\n",
      "\u001b[1;31mValueError\u001b[0m: shapes (2,) and (1000,1000) not aligned: 2 (dim 0) != 1000 (dim 0)"
     ]
    }
   ],
   "source": [
    "def first_order(k, x, y):\n",
    "    return 1+np.cos(k.dot(x)+k.dot(y))\n",
    "\n",
    "kx = np.array([1, 0])*2*np.pi/a_Au\n",
    "planewave = first_order(kx, X, Y) \n",
    "\n",
    "plt.imshow(Au_real, cmap=cm.jet)\n",
    "\n",
    "%matplotlib qt\n",
    "plt.show()"
   ]
  },
  {
   "cell_type": "markdown",
   "id": "59fa8d7f",
   "metadata": {},
   "source": [
    "# Lattice parameters"
   ]
  },
  {
   "cell_type": "code",
   "execution_count": 90,
   "id": "7d401fad",
   "metadata": {},
   "outputs": [],
   "source": [
    "a_Cr = 0.604\n",
    "a_Au = 0.288"
   ]
  },
  {
   "cell_type": "markdown",
   "id": "97e6c104",
   "metadata": {},
   "source": [
    "# Real space Lattice"
   ]
  },
  {
   "cell_type": "code",
   "execution_count": 91,
   "id": "6cf80111",
   "metadata": {},
   "outputs": [],
   "source": [
    "Au_real = first_order(X, Y, 2*np.pi/a_Au)       ### IMPORTANT ###\n",
    "Cr_real = second_order(X, Y, 2*np.pi/a_Cr)      ### IMPORTANT ###\n",
    "moire_real = Au_real * Cr_real"
   ]
  },
  {
   "cell_type": "markdown",
   "id": "5c89f6d9",
   "metadata": {},
   "source": [
    "# Reciprocal space Lattice"
   ]
  },
  {
   "cell_type": "code",
   "execution_count": 92,
   "id": "32404f6a",
   "metadata": {},
   "outputs": [],
   "source": [
    "Cr_reciprocal = np.fft.fftshift(np.fft.fft2(Cr_real))\n",
    "Au_reciprocal = np.fft.fftshift(np.fft.fft2(Au_real))\n",
    "moire_reciprocal = np.fft.fftshift(np.fft.fft2(moire_real))"
   ]
  },
  {
   "cell_type": "markdown",
   "id": "7a837983",
   "metadata": {},
   "source": [
    "# Plot"
   ]
  },
  {
   "cell_type": "code",
   "execution_count": 93,
   "id": "5bcb7760",
   "metadata": {},
   "outputs": [],
   "source": [
    "%matplotlib qt\n",
    "\n",
    "fig = plt.figure(layout=\"constrained\")\n",
    "ax_dict = fig.subplot_mosaic(\n",
    "    [['Au', 'Au_reciprocal'],\n",
    "     ['Cr', 'Cr_reciprocal'],\n",
    "     ['moire_real', 'moire_reciprocal']]\n",
    ")\n",
    "\n",
    "ax_dict['Au'].imshow(Au_real, cmap=cm.jet)\n",
    "ax_dict['Au'].set_title('Au')\n",
    "ax_dict['Au_reciprocal'].imshow(abs(Au_reciprocal), vmin=0, vmax=10000, cmap=cm.jet)\n",
    "ax_dict['Cr'].imshow(Cr_real, cmap=plt.cm.hot)\n",
    "ax_dict['Cr'].set_title('Cr')\n",
    "ax_dict['Cr_reciprocal'].imshow(abs(Cr_reciprocal), vmin=0, vmax=10000, cmap=cm.jet)\n",
    "ax_dict['moire_real'].imshow(moire_real, cmap=cm.jet)\n",
    "ax_dict['moire_real'].set_title('Moire')\n",
    "ax_dict['moire_reciprocal'].imshow(abs(moire_reciprocal), vmin=0, vmax=10000, cmap=cm.jet)\n",
    "\n",
    "plt.show()"
   ]
  },
  {
   "cell_type": "code",
   "execution_count": null,
   "id": "9ca045df",
   "metadata": {},
   "outputs": [],
   "source": []
  }
 ],
 "metadata": {
  "kernelspec": {
   "display_name": "Python 3 (ipykernel)",
   "language": "python",
   "name": "python3"
  },
  "language_info": {
   "codemirror_mode": {
    "name": "ipython",
    "version": 3
   },
   "file_extension": ".py",
   "mimetype": "text/x-python",
   "name": "python",
   "nbconvert_exporter": "python",
   "pygments_lexer": "ipython3",
   "version": "3.9.12"
  }
 },
 "nbformat": 4,
 "nbformat_minor": 5
}
